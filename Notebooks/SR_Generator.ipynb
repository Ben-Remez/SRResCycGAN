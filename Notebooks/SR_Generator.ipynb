{
  "nbformat": 4,
  "nbformat_minor": 0,
  "metadata": {
    "colab": {
      "provenance": [],
      "machine_shape": "hm",
      "gpuType": "A100"
    },
    "kernelspec": {
      "name": "python3",
      "display_name": "Python 3"
    },
    "language_info": {
      "name": "python"
    },
    "accelerator": "GPU"
  },
  "cells": [
    {
      "cell_type": "markdown",
      "source": [
        "# Receive output from SR generator for a low resoultion image"
      ],
      "metadata": {
        "id": "gB4jQC1ms83k"
      }
    },
    {
      "cell_type": "markdown",
      "source": [
        "## install lpips library"
      ],
      "metadata": {
        "id": "toLaawj_ssu1"
      }
    },
    {
      "cell_type": "code",
      "source": [
        "pip install lpips"
      ],
      "metadata": {
        "colab": {
          "base_uri": "https://localhost:8080/"
        },
        "id": "YXU9Mg54wAOq",
        "outputId": "d9a2fe36-827f-43ba-f7a2-f4fcd3ec5dd4"
      },
      "execution_count": null,
      "outputs": [
        {
          "output_type": "stream",
          "name": "stdout",
          "text": [
            "Collecting lpips\n",
            "  Downloading lpips-0.1.4-py3-none-any.whl.metadata (10 kB)\n",
            "Requirement already satisfied: torch>=0.4.0 in /usr/local/lib/python3.10/dist-packages (from lpips) (2.3.1+cu121)\n",
            "Requirement already satisfied: torchvision>=0.2.1 in /usr/local/lib/python3.10/dist-packages (from lpips) (0.18.1+cu121)\n",
            "Requirement already satisfied: numpy>=1.14.3 in /usr/local/lib/python3.10/dist-packages (from lpips) (1.26.4)\n",
            "Requirement already satisfied: scipy>=1.0.1 in /usr/local/lib/python3.10/dist-packages (from lpips) (1.13.1)\n",
            "Requirement already satisfied: tqdm>=4.28.1 in /usr/local/lib/python3.10/dist-packages (from lpips) (4.66.5)\n",
            "Requirement already satisfied: filelock in /usr/local/lib/python3.10/dist-packages (from torch>=0.4.0->lpips) (3.15.4)\n",
            "Requirement already satisfied: typing-extensions>=4.8.0 in /usr/local/lib/python3.10/dist-packages (from torch>=0.4.0->lpips) (4.12.2)\n",
            "Requirement already satisfied: sympy in /usr/local/lib/python3.10/dist-packages (from torch>=0.4.0->lpips) (1.13.2)\n",
            "Requirement already satisfied: networkx in /usr/local/lib/python3.10/dist-packages (from torch>=0.4.0->lpips) (3.3)\n",
            "Requirement already satisfied: jinja2 in /usr/local/lib/python3.10/dist-packages (from torch>=0.4.0->lpips) (3.1.4)\n",
            "Requirement already satisfied: fsspec in /usr/local/lib/python3.10/dist-packages (from torch>=0.4.0->lpips) (2024.6.1)\n",
            "Collecting nvidia-cuda-nvrtc-cu12==12.1.105 (from torch>=0.4.0->lpips)\n",
            "  Using cached nvidia_cuda_nvrtc_cu12-12.1.105-py3-none-manylinux1_x86_64.whl.metadata (1.5 kB)\n",
            "Collecting nvidia-cuda-runtime-cu12==12.1.105 (from torch>=0.4.0->lpips)\n",
            "  Using cached nvidia_cuda_runtime_cu12-12.1.105-py3-none-manylinux1_x86_64.whl.metadata (1.5 kB)\n",
            "Collecting nvidia-cuda-cupti-cu12==12.1.105 (from torch>=0.4.0->lpips)\n",
            "  Using cached nvidia_cuda_cupti_cu12-12.1.105-py3-none-manylinux1_x86_64.whl.metadata (1.6 kB)\n",
            "Collecting nvidia-cudnn-cu12==8.9.2.26 (from torch>=0.4.0->lpips)\n",
            "  Using cached nvidia_cudnn_cu12-8.9.2.26-py3-none-manylinux1_x86_64.whl.metadata (1.6 kB)\n",
            "Collecting nvidia-cublas-cu12==12.1.3.1 (from torch>=0.4.0->lpips)\n",
            "  Using cached nvidia_cublas_cu12-12.1.3.1-py3-none-manylinux1_x86_64.whl.metadata (1.5 kB)\n",
            "Collecting nvidia-cufft-cu12==11.0.2.54 (from torch>=0.4.0->lpips)\n",
            "  Using cached nvidia_cufft_cu12-11.0.2.54-py3-none-manylinux1_x86_64.whl.metadata (1.5 kB)\n",
            "Collecting nvidia-curand-cu12==10.3.2.106 (from torch>=0.4.0->lpips)\n",
            "  Using cached nvidia_curand_cu12-10.3.2.106-py3-none-manylinux1_x86_64.whl.metadata (1.5 kB)\n",
            "Collecting nvidia-cusolver-cu12==11.4.5.107 (from torch>=0.4.0->lpips)\n",
            "  Using cached nvidia_cusolver_cu12-11.4.5.107-py3-none-manylinux1_x86_64.whl.metadata (1.6 kB)\n",
            "Collecting nvidia-cusparse-cu12==12.1.0.106 (from torch>=0.4.0->lpips)\n",
            "  Using cached nvidia_cusparse_cu12-12.1.0.106-py3-none-manylinux1_x86_64.whl.metadata (1.6 kB)\n",
            "Collecting nvidia-nccl-cu12==2.20.5 (from torch>=0.4.0->lpips)\n",
            "  Using cached nvidia_nccl_cu12-2.20.5-py3-none-manylinux2014_x86_64.whl.metadata (1.8 kB)\n",
            "Collecting nvidia-nvtx-cu12==12.1.105 (from torch>=0.4.0->lpips)\n",
            "  Using cached nvidia_nvtx_cu12-12.1.105-py3-none-manylinux1_x86_64.whl.metadata (1.7 kB)\n",
            "Requirement already satisfied: triton==2.3.1 in /usr/local/lib/python3.10/dist-packages (from torch>=0.4.0->lpips) (2.3.1)\n",
            "Collecting nvidia-nvjitlink-cu12 (from nvidia-cusolver-cu12==11.4.5.107->torch>=0.4.0->lpips)\n",
            "  Using cached nvidia_nvjitlink_cu12-12.6.20-py3-none-manylinux2014_x86_64.whl.metadata (1.5 kB)\n",
            "Requirement already satisfied: pillow!=8.3.*,>=5.3.0 in /usr/local/lib/python3.10/dist-packages (from torchvision>=0.2.1->lpips) (9.4.0)\n",
            "Requirement already satisfied: MarkupSafe>=2.0 in /usr/local/lib/python3.10/dist-packages (from jinja2->torch>=0.4.0->lpips) (2.1.5)\n",
            "Requirement already satisfied: mpmath<1.4,>=1.1.0 in /usr/local/lib/python3.10/dist-packages (from sympy->torch>=0.4.0->lpips) (1.3.0)\n",
            "Downloading lpips-0.1.4-py3-none-any.whl (53 kB)\n",
            "\u001b[2K   \u001b[90m━━━━━━━━━━━━━━━━━━━━━━━━━━━━━━━━━━━━━━━━\u001b[0m \u001b[32m53.8/53.8 kB\u001b[0m \u001b[31m3.6 MB/s\u001b[0m eta \u001b[36m0:00:00\u001b[0m\n",
            "\u001b[?25hUsing cached nvidia_cublas_cu12-12.1.3.1-py3-none-manylinux1_x86_64.whl (410.6 MB)\n",
            "Using cached nvidia_cuda_cupti_cu12-12.1.105-py3-none-manylinux1_x86_64.whl (14.1 MB)\n",
            "Using cached nvidia_cuda_nvrtc_cu12-12.1.105-py3-none-manylinux1_x86_64.whl (23.7 MB)\n",
            "Using cached nvidia_cuda_runtime_cu12-12.1.105-py3-none-manylinux1_x86_64.whl (823 kB)\n",
            "Using cached nvidia_cudnn_cu12-8.9.2.26-py3-none-manylinux1_x86_64.whl (731.7 MB)\n",
            "Using cached nvidia_cufft_cu12-11.0.2.54-py3-none-manylinux1_x86_64.whl (121.6 MB)\n",
            "Using cached nvidia_curand_cu12-10.3.2.106-py3-none-manylinux1_x86_64.whl (56.5 MB)\n",
            "Using cached nvidia_cusolver_cu12-11.4.5.107-py3-none-manylinux1_x86_64.whl (124.2 MB)\n",
            "Using cached nvidia_cusparse_cu12-12.1.0.106-py3-none-manylinux1_x86_64.whl (196.0 MB)\n",
            "Using cached nvidia_nccl_cu12-2.20.5-py3-none-manylinux2014_x86_64.whl (176.2 MB)\n",
            "Using cached nvidia_nvtx_cu12-12.1.105-py3-none-manylinux1_x86_64.whl (99 kB)\n",
            "Using cached nvidia_nvjitlink_cu12-12.6.20-py3-none-manylinux2014_x86_64.whl (19.7 MB)\n",
            "Installing collected packages: nvidia-nvtx-cu12, nvidia-nvjitlink-cu12, nvidia-nccl-cu12, nvidia-curand-cu12, nvidia-cufft-cu12, nvidia-cuda-runtime-cu12, nvidia-cuda-nvrtc-cu12, nvidia-cuda-cupti-cu12, nvidia-cublas-cu12, nvidia-cusparse-cu12, nvidia-cudnn-cu12, nvidia-cusolver-cu12, lpips\n",
            "Successfully installed lpips-0.1.4 nvidia-cublas-cu12-12.1.3.1 nvidia-cuda-cupti-cu12-12.1.105 nvidia-cuda-nvrtc-cu12-12.1.105 nvidia-cuda-runtime-cu12-12.1.105 nvidia-cudnn-cu12-8.9.2.26 nvidia-cufft-cu12-11.0.2.54 nvidia-curand-cu12-10.3.2.106 nvidia-cusolver-cu12-11.4.5.107 nvidia-cusparse-cu12-12.1.0.106 nvidia-nccl-cu12-2.20.5 nvidia-nvjitlink-cu12-12.6.20 nvidia-nvtx-cu12-12.1.105\n"
          ]
        }
      ]
    },
    {
      "cell_type": "markdown",
      "source": [
        "# Imports"
      ],
      "metadata": {
        "id": "TIiuanGWtfSW"
      }
    },
    {
      "cell_type": "code",
      "source": [
        "import os\n",
        "\n",
        "import numpy as np\n",
        "\n",
        "import torch\n",
        "import torch.nn as nn\n",
        "import torch.nn.functional as F\n",
        "\n",
        "from PIL import Image\n",
        "from torch.utils.data import Dataset, DataLoader\n",
        "from torchvision.transforms import ToTensor, ToPILImage, Normalize, Resize, Compose\n",
        "\n",
        "import lpips\n",
        "\n",
        "from skimage.metrics import structural_similarity as SSIM"
      ],
      "metadata": {
        "id": "g4zYSdo7tGZC"
      },
      "execution_count": null,
      "outputs": []
    },
    {
      "cell_type": "markdown",
      "source": [
        "## Create Required Folders"
      ],
      "metadata": {
        "id": "3i5dwKyypv_M"
      }
    },
    {
      "cell_type": "code",
      "source": [
        "input_dir = 'input'\n",
        "in_hr_dir = 'input/HR'\n",
        "in_lr_dir = 'input/LR'\n",
        "output_dir = 'output'\n",
        "output_hr_dir = 'output/HR'\n",
        "\n",
        "os.makedirs(input_dir, exist_ok=True)\n",
        "os.makedirs(in_hr_dir, exist_ok=True)\n",
        "os.makedirs(in_lr_dir, exist_ok=True)\n",
        "os.makedirs(output_dir, exist_ok=True)\n",
        "os.makedirs(output_hr_dir, exist_ok=True)"
      ],
      "metadata": {
        "id": "bLiXA0tppvDb"
      },
      "execution_count": null,
      "outputs": []
    },
    {
      "cell_type": "markdown",
      "source": [
        "# SR Generator class"
      ],
      "metadata": {
        "id": "1hnMvpLSuK0X"
      }
    },
    {
      "cell_type": "code",
      "source": [
        "class ResidualBlock(nn.Module):\n",
        "    def __init__(self, channels):\n",
        "        super(ResidualBlock, self).__init__()\n",
        "        self.conv1 = nn.Conv2d(channels, channels, kernel_size=3, padding=1)\n",
        "        self.prelu = nn.PReLU()\n",
        "        self.conv2 = nn.Conv2d(channels, channels, kernel_size=3, padding=1)\n",
        "\n",
        "    def forward(self, x):\n",
        "        return x + self.conv2(self.prelu(self.conv1(x)))\n",
        "\n",
        "class GSR(nn.Module):\n",
        "    def __init__(self, in_channels=3, out_channels=3, num_residuals=5):\n",
        "        super(GSR, self).__init__()\n",
        "        self.encoder = nn.Conv2d(in_channels, 64, kernel_size=5, padding=2)\n",
        "        self.resnet = nn.Sequential(*[ResidualBlock(64) for _ in range(num_residuals)])\n",
        "        self.decoder = nn.Conv2d(64, out_channels, kernel_size=5, padding=2)\n",
        "        self.upsample = nn.Upsample(scale_factor=4, mode='bicubic')\n",
        "\n",
        "    def forward(self, x):\n",
        "        x = self.upsample(x)\n",
        "        x = self.encoder(x)\n",
        "        x = self.resnet(x)\n",
        "        x = self.decoder(x)\n",
        "        return torch.clamp(x, 0, 1)"
      ],
      "metadata": {
        "id": "Km0I1Lg-uNb4"
      },
      "execution_count": null,
      "outputs": []
    },
    {
      "cell_type": "markdown",
      "source": [
        "## Load the weights of the pre-trained model"
      ],
      "metadata": {
        "id": "I1DwRvS2tNWe"
      }
    },
    {
      "cell_type": "code",
      "execution_count": null,
      "metadata": {
        "colab": {
          "base_uri": "https://localhost:8080/"
        },
        "id": "adGDt3G5s7gl",
        "outputId": "6164c592-5dfd-4cdd-a8b9-13fd7c08b0c5"
      },
      "outputs": [
        {
          "output_type": "execute_result",
          "data": {
            "text/plain": [
              "GSR(\n",
              "  (encoder): Conv2d(3, 64, kernel_size=(5, 5), stride=(1, 1), padding=(2, 2))\n",
              "  (resnet): Sequential(\n",
              "    (0): ResidualBlock(\n",
              "      (conv1): Conv2d(64, 64, kernel_size=(3, 3), stride=(1, 1), padding=(1, 1))\n",
              "      (prelu): PReLU(num_parameters=1)\n",
              "      (conv2): Conv2d(64, 64, kernel_size=(3, 3), stride=(1, 1), padding=(1, 1))\n",
              "    )\n",
              "    (1): ResidualBlock(\n",
              "      (conv1): Conv2d(64, 64, kernel_size=(3, 3), stride=(1, 1), padding=(1, 1))\n",
              "      (prelu): PReLU(num_parameters=1)\n",
              "      (conv2): Conv2d(64, 64, kernel_size=(3, 3), stride=(1, 1), padding=(1, 1))\n",
              "    )\n",
              "    (2): ResidualBlock(\n",
              "      (conv1): Conv2d(64, 64, kernel_size=(3, 3), stride=(1, 1), padding=(1, 1))\n",
              "      (prelu): PReLU(num_parameters=1)\n",
              "      (conv2): Conv2d(64, 64, kernel_size=(3, 3), stride=(1, 1), padding=(1, 1))\n",
              "    )\n",
              "    (3): ResidualBlock(\n",
              "      (conv1): Conv2d(64, 64, kernel_size=(3, 3), stride=(1, 1), padding=(1, 1))\n",
              "      (prelu): PReLU(num_parameters=1)\n",
              "      (conv2): Conv2d(64, 64, kernel_size=(3, 3), stride=(1, 1), padding=(1, 1))\n",
              "    )\n",
              "    (4): ResidualBlock(\n",
              "      (conv1): Conv2d(64, 64, kernel_size=(3, 3), stride=(1, 1), padding=(1, 1))\n",
              "      (prelu): PReLU(num_parameters=1)\n",
              "      (conv2): Conv2d(64, 64, kernel_size=(3, 3), stride=(1, 1), padding=(1, 1))\n",
              "    )\n",
              "  )\n",
              "  (decoder): Conv2d(64, 3, kernel_size=(5, 5), stride=(1, 1), padding=(2, 2))\n",
              "  (upsample): Upsample(scale_factor=4.0, mode='bicubic')\n",
              ")"
            ]
          },
          "metadata": {},
          "execution_count": 6
        }
      ],
      "source": [
        "# Model, Optimizer, and Losses\n",
        "device = torch.device('cuda' if torch.cuda.is_available() else 'cpu')\n",
        "\n",
        "generator_sr = GSR().to(device)\n",
        "\n",
        "# Load the pre-trained weights\n",
        "generator_sr.load_state_dict(torch.load('generator_sr.pth'))\n",
        "\n",
        "# Set the model to evaluation mode\n",
        "generator_sr.eval()"
      ]
    },
    {
      "cell_type": "markdown",
      "source": [
        "## Prepare the low-resolution image"
      ],
      "metadata": {
        "id": "rNPYgonLtUV6"
      }
    },
    {
      "cell_type": "code",
      "source": [
        "# Load the low-resolution image\n",
        "lr_image = Image.open('input/LR/example_img.jpg').convert('RGB') # Replace example_img.jpg with your image file.\n",
        "\n",
        "# Preprocess the image: Convert to tensor and add a batch dimension\n",
        "transform = ToTensor()\n",
        "lr_image_tensor = transform(lr_image).unsqueeze(0).to(device)  # Add batch dimension and move to device"
      ],
      "metadata": {
        "id": "UZjZPdBvtI7s"
      },
      "execution_count": null,
      "outputs": []
    },
    {
      "cell_type": "markdown",
      "source": [
        "## Generate the high-resolution image"
      ],
      "metadata": {
        "id": "_O6j5cT7ttYw"
      }
    },
    {
      "cell_type": "code",
      "source": [
        "# Generate the high-resolution image\n",
        "with torch.no_grad():  # Disable gradient calculation for inference\n",
        "    output = generator_sr(lr_image_tensor)\n",
        "\n",
        "# Remove the batch dimension and convert back to a PIL image\n",
        "sr_image_tensor = output.squeeze(0)  # Remove batch dimension\n",
        "to_pil = ToPILImage()\n",
        "sr_image = to_pil(sr_image_tensor.cpu())  # Move to CPU and convert to PIL image"
      ],
      "metadata": {
        "id": "jBHYgjZZtw66"
      },
      "execution_count": null,
      "outputs": []
    },
    {
      "cell_type": "markdown",
      "source": [
        "## Save high resolution image output"
      ],
      "metadata": {
        "id": "rnz5c4bzt0NL"
      }
    },
    {
      "cell_type": "code",
      "source": [
        "# Save the high-resolution image\n",
        "sr_image.save('output/HR/super_resolved_image.jpg')"
      ],
      "metadata": {
        "id": "OjSCTwmht5xl"
      },
      "execution_count": null,
      "outputs": []
    },
    {
      "cell_type": "markdown",
      "source": [
        "## Metrics"
      ],
      "metadata": {
        "id": "wooshipMwt93"
      }
    },
    {
      "cell_type": "code",
      "source": [
        "def calculate_psnr(img1, img2):\n",
        "    mse = F.mse_loss(img1, img2)\n",
        "    if mse == 0:\n",
        "        return float('inf')\n",
        "    psnr = 20 * torch.log10(1.0 / torch.sqrt(mse))\n",
        "    return psnr.item()"
      ],
      "metadata": {
        "id": "wcRUFb3be1ag"
      },
      "execution_count": null,
      "outputs": []
    },
    {
      "cell_type": "code",
      "source": [
        "def calculate_ssim(img1, img2, win_size=7):\n",
        "    img1_np = img1.squeeze(0).permute(1, 2, 0).cpu().numpy()  # Convert to HWC format and NumPy array\n",
        "    img2_np = img2.squeeze(0).permute(1, 2, 0).cpu().numpy()  # Convert to HWC format and NumPy array\n",
        "    ssim_value = SSIM(img1_np, img2_np, multichannel=True, data_range=img1_np.max() - img1_np.min(), win_size=win_size)\n",
        "    return ssim_value"
      ],
      "metadata": {
        "id": "p296HLkn84VN"
      },
      "execution_count": null,
      "outputs": []
    },
    {
      "cell_type": "code",
      "source": [
        "def calculate_lpips(img1, img2, loss_fn):\n",
        "    # Ensure img1 and img2 are normalized and have the same dimensions\n",
        "    lpips_value = loss_fn(img1, img2)\n",
        "    return lpips_value.item()"
      ],
      "metadata": {
        "id": "IL1dFDw1fq_G"
      },
      "execution_count": null,
      "outputs": []
    },
    {
      "cell_type": "markdown",
      "source": [
        "## Load images and run calaculation of metrics for the given images"
      ],
      "metadata": {
        "id": "9RGEn2aiwgz5"
      }
    },
    {
      "cell_type": "code",
      "source": [
        "sr_image = Image.open('output/HR/super_resolved_image.jpg').convert('RGB')\n",
        "hr_image = Image.open('input/HR/0a4baa7dea1785.jpg').convert('RGB')\n",
        "\n",
        "# Convert to tensors (this will normalize the images to the range [0, 1])\n",
        "sr_image_tensor = ToTensor()(sr_image)  # Shape will be [3, H, W]\n",
        "hr_image_tensor = ToTensor()(hr_image)  # Shape will be [3, H, W]\n",
        "\n",
        "# Add a batch dimension (shape will be [1, 3, H, W])\n",
        "sr_image_tensor = sr_image_tensor.unsqueeze(0)\n",
        "hr_image_tensor = hr_image_tensor.unsqueeze(0)\n",
        "\n",
        "# Resize sr_image_tensor to match the dimensions of hr_image_tensor\n",
        "sr_image_tensor_resized = F.interpolate(sr_image_tensor, size=hr_image_tensor.shape[2:], mode='bilinear', align_corners=False)\n",
        "\n",
        "# Normalize to [-1, 1] for LPIPS\n",
        "sr_image_tensor_lpips = 2 * sr_image_tensor - 1\n",
        "hr_image_tensor_lpips = 2 * hr_image_tensor - 1\n",
        "\n",
        "sr_image_tensor_lpips = F.interpolate(sr_image_tensor_lpips, size=hr_image_tensor_lpips.shape[2:], mode='bilinear', align_corners=False)"
      ],
      "metadata": {
        "id": "A5-zqUbRgt-3"
      },
      "execution_count": null,
      "outputs": []
    },
    {
      "cell_type": "code",
      "source": [
        "# Initialize LPIPS model\n",
        "device = torch.device(\"cuda\" if torch.cuda.is_available() else \"cpu\")\n",
        "loss_fn_vgg = lpips.LPIPS(net='vgg').to(device)"
      ],
      "metadata": {
        "colab": {
          "base_uri": "https://localhost:8080/"
        },
        "id": "DBH6TM8JxU4G",
        "outputId": "dcd54e55-ae68-43c6-a677-cd7880096749"
      },
      "execution_count": null,
      "outputs": [
        {
          "output_type": "stream",
          "name": "stdout",
          "text": [
            "Setting up [LPIPS] perceptual loss: trunk [vgg], v[0.1], spatial [off]\n"
          ]
        },
        {
          "output_type": "stream",
          "name": "stderr",
          "text": [
            "/usr/local/lib/python3.10/dist-packages/torchvision/models/_utils.py:208: UserWarning: The parameter 'pretrained' is deprecated since 0.13 and may be removed in the future, please use 'weights' instead.\n",
            "  warnings.warn(\n",
            "/usr/local/lib/python3.10/dist-packages/torchvision/models/_utils.py:223: UserWarning: Arguments other than a weight enum or `None` for 'weights' are deprecated since 0.13 and may be removed in the future. The current behavior is equivalent to passing `weights=VGG16_Weights.IMAGENET1K_V1`. You can also use `weights=VGG16_Weights.DEFAULT` to get the most up-to-date weights.\n",
            "  warnings.warn(msg)\n",
            "Downloading: \"https://download.pytorch.org/models/vgg16-397923af.pth\" to /root/.cache/torch/hub/checkpoints/vgg16-397923af.pth\n",
            "100%|██████████| 528M/528M [00:02<00:00, 217MB/s]\n"
          ]
        },
        {
          "output_type": "stream",
          "name": "stdout",
          "text": [
            "Loading model from: /usr/local/lib/python3.10/dist-packages/lpips/weights/v0.1/vgg.pth\n"
          ]
        }
      ]
    },
    {
      "cell_type": "code",
      "source": [
        "# PSNR\n",
        "psnr_value = calculate_psnr(sr_image_tensor_resized, hr_image_tensor)\n",
        "print(f\"PSNR: {psnr_value} dB\")\n",
        "\n",
        "# SSIM\n",
        "ssim_value = calculate_ssim(sr_image_tensor_resized, hr_image_tensor, win_size=3)\n",
        "print(f\"SSIM: {ssim_value}\")\n",
        "\n",
        "# LPIPS\n",
        "lpips_value = calculate_lpips(sr_image_tensor_lpips, hr_image_tensor_lpips)\n",
        "print(f\"LPIPS: {lpips_value}\")"
      ],
      "metadata": {
        "colab": {
          "base_uri": "https://localhost:8080/"
        },
        "id": "sP8cawBShBcf",
        "outputId": "55460f5b-fcf3-487c-e214-c69ba911f11f"
      },
      "execution_count": null,
      "outputs": [
        {
          "output_type": "stream",
          "name": "stdout",
          "text": [
            "PSNR: 26.138442993164062 dB\n",
            "SSIM: 0.7226033561416215\n",
            "Setting up [LPIPS] perceptual loss: trunk [alex], v[0.1], spatial [off]\n",
            "Loading model from: /usr/local/lib/python3.10/dist-packages/lpips/weights/v0.1/alex.pth\n",
            "LPIPS: 0.518660843372345\n"
          ]
        }
      ]
    },
    {
      "cell_type": "markdown",
      "source": [
        "# Run Test Set with Metrics Graph per Epoch"
      ],
      "metadata": {
        "id": "Nipr37sRuJ7W"
      }
    },
    {
      "cell_type": "markdown",
      "source": [
        "## Load Test Set"
      ],
      "metadata": {
        "id": "7OtSzfwPuGqF"
      }
    },
    {
      "cell_type": "code",
      "source": [
        "class SRDataset(Dataset):\n",
        "    def __init__(self, lr_dir, hr_dir, transform=None):\n",
        "        self.lr_dir = lr_dir\n",
        "        self.hr_dir = hr_dir\n",
        "        self.lr_images = sorted([file for file in os.listdir(lr_dir) if file.endswith(('.png', '.jpg', '.jpeg'))])\n",
        "        self.hr_images = sorted([file for file in os.listdir(hr_dir) if file.endswith(('.png', '.jpg', '.jpeg'))])\n",
        "        self.transform = transform\n",
        "\n",
        "    def __len__(self):\n",
        "        return len(self.lr_images)\n",
        "\n",
        "    def __getitem__(self, idx):\n",
        "        lr_image_path = os.path.join(self.lr_dir, self.lr_images[idx])\n",
        "        hr_image_path = os.path.join(self.hr_dir, self.hr_images[idx])\n",
        "\n",
        "        lr_image = Image.open(lr_image_path).convert('RGB')\n",
        "        hr_image = Image.open(hr_image_path).convert('RGB')\n",
        "\n",
        "        if self.transform:\n",
        "            lr_image = self.transform(lr_image)\n",
        "            hr_image = self.transform(hr_image)\n",
        "\n",
        "        return lr_image, hr_image"
      ],
      "metadata": {
        "id": "u7shw5eWuQ2E"
      },
      "execution_count": null,
      "outputs": []
    },
    {
      "cell_type": "code",
      "source": [
        "from google.colab import drive\n",
        "drive.mount('/content/drive')"
      ],
      "metadata": {
        "colab": {
          "base_uri": "https://localhost:8080/"
        },
        "id": "e6z1O2322y55",
        "outputId": "dcbe7595-6c1d-4144-c34c-ebe49c26122f"
      },
      "execution_count": null,
      "outputs": [
        {
          "output_type": "stream",
          "name": "stdout",
          "text": [
            "Mounted at /content/drive\n"
          ]
        }
      ]
    },
    {
      "cell_type": "code",
      "source": [
        "# Paths\n",
        "lr_dir = '/content/drive/My Drive/example_test_set/LR'\n",
        "hr_dir = '/content/drive/My Drive/example_test_set/HR'\n",
        "\n",
        "# Dataset and DataLoader\n",
        "# Define a transform to resize images to 256x256 and convert to tensor\n",
        "transform = Compose([\n",
        "    Resize((256, 256)),\n",
        "    ToTensor()\n",
        "])\n",
        "\n",
        "dataset = SRDataset(lr_dir, hr_dir, transform=transform)\n",
        "dataloader = DataLoader(dataset, batch_size=1, shuffle=False)"
      ],
      "metadata": {
        "id": "_6qVFgFPu8Wb"
      },
      "execution_count": null,
      "outputs": []
    },
    {
      "cell_type": "code",
      "source": [
        "# Function to compute metrics\n",
        "def compute_metrics(lr_image, hr_image, sr_image, loss_fn_vgg):\n",
        "    # Resize SR image tensor to match the dimensions of HR image tensor\n",
        "    sr_image_resized = F.interpolate(sr_image, size=hr_image.shape[2:], mode='bilinear', align_corners=False)\n",
        "\n",
        "    # Calculate metrics using the resized SR image\n",
        "    psnr_value = calculate_psnr(sr_image_resized, hr_image)\n",
        "    ssim_value = calculate_ssim(sr_image_resized, hr_image, win_size=3)\n",
        "    lpips_value = calculate_lpips(sr_image_resized, hr_image, loss_fn_vgg)\n",
        "\n",
        "    return ssim_value, psnr_value, lpips_value"
      ],
      "metadata": {
        "id": "8l8iXhWFxY1w"
      },
      "execution_count": null,
      "outputs": []
    },
    {
      "cell_type": "code",
      "source": [
        "# Function to evaluate the model on the entire test set\n",
        "def evaluate_model(dataloader, model, loss_fn_vgg, device):\n",
        "    ssim_scores = []\n",
        "    psnr_scores = []\n",
        "    lpips_scores = []\n",
        "\n",
        "    for lr_image, hr_image in dataloader:\n",
        "        lr_image = lr_image.to(device)\n",
        "        hr_image = hr_image.to(device)\n",
        "\n",
        "        # Generate the super-resolved image\n",
        "        with torch.no_grad():\n",
        "            sr_image = model(lr_image)\n",
        "\n",
        "        # Compute metrics\n",
        "        ssim_value, psnr_value, lpips_value = compute_metrics(lr_image, hr_image, sr_image, loss_fn_vgg)\n",
        "\n",
        "        # Store the metrics\n",
        "        ssim_scores.append(ssim_value)\n",
        "        psnr_scores.append(psnr_value)\n",
        "        lpips_scores.append(lpips_value)\n",
        "\n",
        "    # Calculate the average metrics\n",
        "    avg_ssim = np.mean(ssim_scores)\n",
        "    avg_psnr = np.mean(psnr_scores)\n",
        "    avg_lpips = np.mean(lpips_scores)\n",
        "\n",
        "    return avg_ssim, avg_psnr, avg_lpips"
      ],
      "metadata": {
        "id": "K1oMCudbyR2X"
      },
      "execution_count": null,
      "outputs": []
    },
    {
      "cell_type": "code",
      "source": [
        "# Evaluate models\n",
        "num_models = 30 # Change this according to the number of models you have weights saved.\n",
        "\n",
        "device = torch.device('cuda' if torch.cuda.is_available() else 'cpu')\n",
        "generator_sr = GSR().to(device)\n",
        "\n",
        "avg_ssim_pe = [0] * num_models\n",
        "avg_psnr_pe = [0] * num_models\n",
        "avg_lpips_pe = [0] * num_models\n",
        "\n",
        "for i in range(num_models):\n",
        "  generator_sr.load_state_dict(torch.load(f'models/generator_sr_epoch_{i + 1}.pth')) # Load the weights of the given model (per epoch).\n",
        "  generator_sr.eval()\n",
        "  avg_ssim, avg_psnr, avg_lpips = evaluate_model(dataloader, generator_sr, loss_fn_vgg, device)\n",
        "\n",
        "  print(f\"Average SSIM {i + 1}: {avg_ssim}\")\n",
        "  print(f\"Average PSNR {i + 1}: {avg_psnr} dB\")\n",
        "  print(f\"Average LPIPS {i + 1}: {avg_lpips}\")\n",
        "  print('')\n",
        "\n",
        "  avg_ssim_pe[i] = avg_ssim\n",
        "  avg_psnr_pe[i] = avg_psnr\n",
        "  avg_lpips_pe[i] = avg_lpips"
      ],
      "metadata": {
        "colab": {
          "base_uri": "https://localhost:8080/"
        },
        "id": "Ykn5qh4NyVrp",
        "outputId": "2154ad20-0b91-4ef4-ae8a-c114cad7e030"
      },
      "execution_count": null,
      "outputs": [
        {
          "output_type": "stream",
          "name": "stdout",
          "text": [
            "Average SSIM 1: 0.8656832114240729\n",
            "Average PSNR 1: 22.46211995901885 dB\n",
            "Average LPIPS 1: 0.04092048710488059\n",
            "Average SSIM 2: 0.8465668257085028\n",
            "Average PSNR 2: 22.043023648085416 dB\n",
            "Average LPIPS 2: 0.04809748574539467\n",
            "Average SSIM 3: 0.8425266708267672\n",
            "Average PSNR 3: 21.943573112841005 dB\n",
            "Average LPIPS 3: 0.0520634006674367\n",
            "Average SSIM 4: 0.8341549289845447\n",
            "Average PSNR 4: 21.841373920440674 dB\n",
            "Average LPIPS 4: 0.05814760305953247\n",
            "Average SSIM 5: 0.8376645012378722\n",
            "Average PSNR 5: 21.859416317056727 dB\n",
            "Average LPIPS 5: 0.061716921627521515\n",
            "Average SSIM 6: 0.839822727778971\n",
            "Average PSNR 6: 21.843656954941927 dB\n",
            "Average LPIPS 6: 0.06500365726511788\n",
            "Average SSIM 7: 0.8386260498857858\n",
            "Average PSNR 7: 21.890587082615607 dB\n",
            "Average LPIPS 7: 0.06682698797710517\n",
            "Average SSIM 8: 0.8408137603237804\n",
            "Average PSNR 8: 22.065243305983365 dB\n",
            "Average LPIPS 8: 0.0697149719560036\n",
            "Average SSIM 9: 0.8374252170716767\n",
            "Average PSNR 9: 21.95377987402457 dB\n",
            "Average LPIPS 9: 0.07376078550738317\n",
            "Average SSIM 10: 0.8416265962661342\n",
            "Average PSNR 10: 22.11001235467416 dB\n",
            "Average LPIPS 10: 0.07419925521093386\n",
            "Average SSIM 11: 0.8242955685519378\n",
            "Average PSNR 11: 21.70480978047406 dB\n",
            "Average LPIPS 11: 0.0833730738679016\n",
            "Average SSIM 12: 0.8416233659466246\n",
            "Average PSNR 12: 21.859416670269436 dB\n",
            "Average LPIPS 12: 0.07709427164108665\n",
            "Average SSIM 13: 0.8405889730902296\n",
            "Average PSNR 13: 21.81856878598531 dB\n",
            "Average LPIPS 13: 0.08459902620287957\n",
            "Average SSIM 14: 0.8406273204440886\n",
            "Average PSNR 14: 21.747282646320485 dB\n",
            "Average LPIPS 14: 0.08651600233106702\n",
            "Average SSIM 15: 0.827434278247419\n",
            "Average PSNR 15: 21.701317681206596 dB\n",
            "Average LPIPS 15: 0.09032994084474114\n",
            "Average SSIM 16: 0.8404789651546024\n",
            "Average PSNR 16: 21.745396817172015 dB\n",
            "Average LPIPS 16: 0.09464773108009938\n",
            "Average SSIM 17: 0.8437811027000985\n",
            "Average PSNR 17: 21.88008556542573 dB\n",
            "Average LPIPS 17: 0.09796267972086314\n",
            "Average SSIM 18: 0.8486726646264815\n",
            "Average PSNR 18: 22.018152281090064 dB\n",
            "Average LPIPS 18: 0.09518313173342634\n",
            "Average SSIM 19: 0.8585147545550394\n",
            "Average PSNR 19: 22.245900516156798 dB\n",
            "Average LPIPS 19: 0.09809193984363918\n",
            "Average SSIM 20: 0.8548894644177042\n",
            "Average PSNR 20: 22.2774751274674 dB\n",
            "Average LPIPS 20: 0.10413002950587759\n",
            "Average SSIM 21: 0.8593511600784238\n",
            "Average PSNR 21: 22.276461097929214 dB\n",
            "Average LPIPS 21: 0.10497642246385415\n",
            "Average SSIM 22: 0.8556814928968621\n",
            "Average PSNR 22: 22.29213719014768 dB\n",
            "Average LPIPS 22: 0.10834197261957107\n",
            "Average SSIM 23: 0.858825301141105\n",
            "Average PSNR 23: 23.0306528850838 dB\n",
            "Average LPIPS 23: 0.10792310090942515\n",
            "Average SSIM 24: 0.8654900236026998\n",
            "Average PSNR 24: 23.291444363417448 dB\n",
            "Average LPIPS 24: 0.11086114754693376\n",
            "Average SSIM 25: 0.8611449960117389\n",
            "Average PSNR 25: 23.291165360697992 dB\n",
            "Average LPIPS 25: 0.11666836710301814\n",
            "Average SSIM 26: 0.8698824822202234\n",
            "Average PSNR 26: 23.725317301573575 dB\n",
            "Average LPIPS 26: 0.11776419459945625\n",
            "Average SSIM 27: 0.8683426828735642\n",
            "Average PSNR 27: 23.61559025446574 dB\n",
            "Average LPIPS 27: 0.12102732331388527\n",
            "Average SSIM 28: 0.8729889570985278\n",
            "Average PSNR 28: 23.89842775132921 dB\n",
            "Average LPIPS 28: 0.12024265914051621\n",
            "Average SSIM 29: 0.8784403356071351\n",
            "Average PSNR 29: 24.004592365688747 dB\n",
            "Average LPIPS 29: 0.1162924520947315\n",
            "Average SSIM 30: 0.8796163434300196\n",
            "Average PSNR 30: 24.00053349247685 dB\n",
            "Average LPIPS 30: 0.11857243151300484\n"
          ]
        }
      ]
    },
    {
      "cell_type": "markdown",
      "source": [
        "# Plot Metrics"
      ],
      "metadata": {
        "id": "JipenJy4_Vbx"
      }
    },
    {
      "cell_type": "code",
      "source": [
        "import matplotlib.pyplot as plt"
      ],
      "metadata": {
        "id": "HOI7FRu-_xc7"
      },
      "execution_count": null,
      "outputs": []
    },
    {
      "cell_type": "code",
      "source": [
        "def plot_metric(metric_name, history):\n",
        "  epochs = range(1, len(history) + 1)\n",
        "\n",
        "  # Plot the metric vs. epoch\n",
        "  plt.figure(figsize=(10, 6))\n",
        "  plt.plot(epochs, history, 'b-', marker='o', label=metric_name)\n",
        "  plt.xlabel('Epoch')\n",
        "  plt.ylabel(f'{metric_name}')\n",
        "  plt.title(f'{metric_name} vs. Epoch')\n",
        "  plt.legend()\n",
        "  plt.grid(True)\n",
        "  plt.xticks(range(1, len(history) + 1))\n",
        "  plt.savefig(f'{metric_name}_vs_epoch.png')\n",
        "  plt.show()"
      ],
      "metadata": {
        "id": "s8nAumCB_Q4Z"
      },
      "execution_count": null,
      "outputs": []
    },
    {
      "cell_type": "markdown",
      "source": [
        "## Plot SSIM Metric"
      ],
      "metadata": {
        "id": "1-aQ1buCu76K"
      }
    },
    {
      "cell_type": "code",
      "source": [
        "plot_metric('SSIM', avg_ssim_pe)"
      ],
      "metadata": {
        "colab": {
          "base_uri": "https://localhost:8080/",
          "height": 564
        },
        "id": "f5DMLfpNAQbA",
        "outputId": "60bc9ee9-e80e-497a-91d9-f4f297f8ecfd"
      },
      "execution_count": null,
      "outputs": [
        {
          "output_type": "display_data",
          "data": {
            "text/plain": [
              "<Figure size 1000x600 with 1 Axes>"
            ],
            "image/png": "[encoded data removed]"
          },
          "metadata": {}
        }
      ]
    },
    {
      "cell_type": "markdown",
      "source": [
        "## Plot PSNR Metric"
      ],
      "metadata": {
        "id": "x10TLucIu_SV"
      }
    },
    {
      "cell_type": "code",
      "source": [
        "plot_metric('PSNR', avg_psnr_pe)"
      ],
      "metadata": {
        "colab": {
          "base_uri": "https://localhost:8080/",
          "height": 564
        },
        "id": "TxE2M72nAc12",
        "outputId": "bbfea41f-9ec4-4419-8688-fc4f9cafb4d4"
      },
      "execution_count": null,
      "outputs": [
        {
          "output_type": "display_data",
          "data": {
            "text/plain": [
              "<Figure size 1000x600 with 1 Axes>"
            ],
            "image/png": "[encoded data removed]"
          },
          "metadata": {}
        }
      ]
    },
    {
      "cell_type": "markdown",
      "source": [
        "# Plot LPIPS Metric"
      ],
      "metadata": {
        "id": "beHKcplWvBXM"
      }
    },
    {
      "cell_type": "code",
      "source": [
        "plot_metric('LPIPS', avg_lpips_pe)"
      ],
      "metadata": {
        "colab": {
          "base_uri": "https://localhost:8080/",
          "height": 564
        },
        "id": "lmZbbQAKAhiZ",
        "outputId": "39eb9235-16a1-4fa2-933d-9206876ccb47"
      },
      "execution_count": null,
      "outputs": [
        {
          "output_type": "display_data",
          "data": {
            "text/plain": [
              "<Figure size 1000x600 with 1 Axes>"
            ],
            "image/png": "[encoded data removed]"
          },
          "metadata": {}
        }
      ]
    }
  ]
}
