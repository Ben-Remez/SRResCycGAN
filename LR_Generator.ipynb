{
  "nbformat": 4,
  "nbformat_minor": 0,
  "metadata": {
    "colab": {
      "provenance": [],
      "machine_shape": "hm",
      "gpuType": "A100"
    },
    "kernelspec": {
      "name": "python3",
      "display_name": "Python 3"
    },
    "language_info": {
      "name": "python"
    },
    "accelerator": "GPU"
  },
  "cells": [
    {
      "cell_type": "markdown",
      "source": [
        "# Receive output from LR generator for a high resoultion image"
      ],
      "metadata": {
        "id": "mC1f3wx10-Nf"
      }
    },
    {
      "cell_type": "markdown",
      "source": [
        "# Imports"
      ],
      "metadata": {
        "id": "FzCDe0X-1DyM"
      }
    },
    {
      "cell_type": "code",
      "execution_count": null,
      "metadata": {
        "id": "mjgjSlc606FM"
      },
      "outputs": [],
      "source": [
        "import torch\n",
        "import torch.nn as nn\n",
        "\n",
        "from PIL import Image\n",
        "from torchvision.transforms import ToTensor, ToPILImage, Normalize"
      ]
    },
    {
      "cell_type": "markdown",
      "source": [
        "# LR Generator class"
      ],
      "metadata": {
        "id": "2IsU3i6m1GEl"
      }
    },
    {
      "cell_type": "code",
      "source": [
        "class GLR(nn.Module):\n",
        "    def __init__(self, in_channels=3, out_channels=3):\n",
        "        super(GLR, self).__init__()\n",
        "        self.net = nn.Sequential(\n",
        "            nn.Conv2d(in_channels, 64, kernel_size=3, stride=2, padding=1),\n",
        "            nn.LeakyReLU(0.2),\n",
        "             self._block(64, 128, 3, 2),\n",
        "             self._block(128, 256, 3, 2),\n",
        "            nn.Conv2d(256, out_channels, kernel_size=3, padding=1)\n",
        "        )\n",
        "\n",
        "    def _block(self, in_channels, out_channels, kernel_size, stride):\n",
        "        return nn.Sequential(\n",
        "            nn.Conv2d(in_channels, out_channels, kernel_size, stride, padding=1),\n",
        "            nn.BatchNorm2d(out_channels),\n",
        "            nn.LeakyReLU(0.2)\n",
        "        )\n",
        "\n",
        "    def forward(self, x):\n",
        "        return self.net(x)"
      ],
      "metadata": {
        "id": "QR86AEdo1Fn8"
      },
      "execution_count": null,
      "outputs": []
    },
    {
      "cell_type": "markdown",
      "source": [
        "## Load the weights of the pre-trained model"
      ],
      "metadata": {
        "id": "19wPrcXk1Nfg"
      }
    },
    {
      "cell_type": "code",
      "source": [
        "# Model, Optimizer, and Losses\n",
        "device = torch.device('cuda' if torch.cuda.is_available() else 'cpu')\n",
        "\n",
        "# Assume GSR is the class definition for the SR generator\n",
        "generator_lr = GLR().to(device)  # Make sure the device is set (e.g., 'cuda' or 'cpu')\n",
        "\n",
        "# Load the pre-trained weights\n",
        "generator_lr.load_state_dict(torch.load('generator_lr.pth'))\n",
        "\n",
        "# Set the model to evaluation mode\n",
        "generator_lr.eval()"
      ],
      "metadata": {
        "colab": {
          "base_uri": "https://localhost:8080/"
        },
        "id": "tRY1-8xL1PyK",
        "outputId": "c84ce08b-8010-4abf-ceb4-0aa06da5c148"
      },
      "execution_count": null,
      "outputs": [
        {
          "output_type": "execute_result",
          "data": {
            "text/plain": [
              "GLR(\n",
              "  (net): Sequential(\n",
              "    (0): Conv2d(3, 64, kernel_size=(3, 3), stride=(2, 2), padding=(1, 1))\n",
              "    (1): LeakyReLU(negative_slope=0.2)\n",
              "    (2): Sequential(\n",
              "      (0): Conv2d(64, 128, kernel_size=(3, 3), stride=(2, 2), padding=(1, 1))\n",
              "      (1): BatchNorm2d(128, eps=1e-05, momentum=0.1, affine=True, track_running_stats=True)\n",
              "      (2): LeakyReLU(negative_slope=0.2)\n",
              "    )\n",
              "    (3): Sequential(\n",
              "      (0): Conv2d(128, 256, kernel_size=(3, 3), stride=(2, 2), padding=(1, 1))\n",
              "      (1): BatchNorm2d(256, eps=1e-05, momentum=0.1, affine=True, track_running_stats=True)\n",
              "      (2): LeakyReLU(negative_slope=0.2)\n",
              "    )\n",
              "    (4): Conv2d(256, 3, kernel_size=(3, 3), stride=(1, 1), padding=(1, 1))\n",
              "  )\n",
              ")"
            ]
          },
          "metadata": {},
          "execution_count": 15
        }
      ]
    },
    {
      "cell_type": "markdown",
      "source": [
        "## Prepare the high-resolution image"
      ],
      "metadata": {
        "id": "1rNQVAU31qKH"
      }
    },
    {
      "cell_type": "code",
      "source": [
        "# Load the low-resolution image\n",
        "hr_image = Image.open('input/HR/8e5ce3b37f7e73.jpg').convert('RGB')\n",
        "\n",
        "# Preprocess the image: Convert to tensor and add a batch dimension\n",
        "transform = ToTensor()\n",
        "hr_image_tensor = transform(hr_image).unsqueeze(0).to(device)  # Add batch dimension and move to device"
      ],
      "metadata": {
        "id": "rIySxGJm1r5i"
      },
      "execution_count": null,
      "outputs": []
    },
    {
      "cell_type": "markdown",
      "source": [
        "## Generate the low-resolution image"
      ],
      "metadata": {
        "id": "Lwhg_vfX10-r"
      }
    },
    {
      "cell_type": "code",
      "source": [
        "# Generate the high-resolution image\n",
        "with torch.no_grad():  # Disable gradient calculation for inference\n",
        "    lr_image_tensor = generator_lr(hr_image_tensor)\n",
        "\n",
        "# Remove the batch dimension and convert back to a PIL image\n",
        "lr_image_tensor = lr_image_tensor.squeeze(0)  # Remove batch dimension\n",
        "to_pil = ToPILImage()\n",
        "lr_image = to_pil(lr_image_tensor.cpu())  # Move to CPU and convert to PIL image"
      ],
      "metadata": {
        "id": "Vu65NEEe13sy"
      },
      "execution_count": null,
      "outputs": []
    },
    {
      "cell_type": "markdown",
      "source": [
        "## Save low resolution image output"
      ],
      "metadata": {
        "id": "VQFO2tNo1_sQ"
      }
    },
    {
      "cell_type": "code",
      "source": [
        "# Save the high-resolution image\n",
        "lr_image.save('output/LR/8e5ce3b37f7e73.jpg')"
      ],
      "metadata": {
        "id": "hS0lxC5f2BXi"
      },
      "execution_count": null,
      "outputs": []
    }
  ]
}